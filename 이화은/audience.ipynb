{
 "cells": [
  {
   "cell_type": "markdown",
   "id": "fce997d4-77c5-4668-8df9-fcd7218838be",
   "metadata": {},
   "source": [
    "## 2) 홈 경기일 때 기준 관객 수(원정 관중 포함) (각 팀별 막대그래프로 값을 비교)\n",
    "=> 최근 3년 간 어떤 구단이 가장 인기가 있는가?(관중 규모가 가장 큰가)\n",
    "* 데이터 가공 \n",
    "1. 관중수 쉼표 없애고 숫자로 형변환\n",
    "2. 홈 구장 별로 정렬.\n",
    "3. 빈데이터 딕셔너리 만들어서 2021-23 시즌 {홈구단 : 일평균 총 관중 수} 입력 -> 값이 0인 경우가 있어서 그 경우를 제외했더니 각 구단별 경기 수가 달라져서 일평균 사용.\n",
    "4. 빈데이터 딕셔너리2 만들어서 2021-23 시즌 {야구장 : 일평균 총 관중 수} 입력\n",
    "\n",
    "* 그래프1 : \n",
    "1.\r\n",
    "\n"
   ]
  },
  {
   "cell_type": "code",
   "execution_count": 1,
   "id": "f49852b7-ea31-4ed5-b7a8-cf6d9d54935b",
   "metadata": {},
   "outputs": [
    {
     "data": {
      "text/plain": [
       "'%.3f'"
      ]
     },
     "execution_count": 1,
     "metadata": {},
     "output_type": "execute_result"
    }
   ],
   "source": [
    "import pandas as pd\n",
    "import numpy as np\n",
    "import matplotlib.pyplot as plt\n",
    "import koreanize_matplotlib\n",
    "%precision 3"
   ]
  },
  {
   "cell_type": "code",
   "execution_count": 142,
   "id": "7ccce03a-a5f5-498b-98a8-4512c130f80d",
   "metadata": {},
   "outputs": [],
   "source": [
    "# 데이터에서 필요한 열만 읽어서 데이터 프레임으로 만드는 함수.\n",
    "def csv_reader(filename):\n",
    "    df = pd.read_csv(filename, usecols= ['날짜', '홈', '방문', '구장', '관중수'])\n",
    "    return df\n",
    "    \n",
    "# 쉼표 제거 후 int로 변경.\n",
    "def str_to_int(df, col) :\n",
    "    df[col] = df[col].astype(str).str.replace(',', '').astype(int)\n",
    "    return df[col]\n",
    "    \n",
    "# #데이터프레임을 col을 기준으로 정렬    \n",
    "# def sort_data(df, col) :\n",
    "#     df = df.sort_values(by = col)\n",
    "#     return df   \n",
    "\n",
    "# 그래프 그리기\n",
    "def draw_bar(dict, title) :\n",
    "#['KIA', 'KT', 'LG', 'NC', 'SSG', '두산', '롯데', '삼성', '키움', '한화']\n",
    "    colorlist = ['#eb0028', '#000000', '#c30452', '#305288', '#d41630', '#121130', '#012754', '#064ca1', '#820022', '#ff6600']\n",
    "    team = list(dict.keys())\n",
    "    ad = list(dict.values())\n",
    "    plt.figure(figsize=(6,6))\n",
    "    plt.title(title)\n",
    "    plt.bar(team, ad, color = colorlist, alpha = 0.7)"
   ]
  },
  {
   "cell_type": "code",
   "execution_count": 143,
   "id": "f0b5ac43-2219-426c-b0a1-ce6b5b6060c6",
   "metadata": {},
   "outputs": [],
   "source": [
    "df_2021 = csv_reader('2021년일자별구장별관중현황.csv')\n",
    "df_2022 = csv_reader('2022년일자별구장별관중현황.csv')\n",
    "df_2023 = csv_reader('2023년일자별구장별관중현황.csv')"
   ]
  },
  {
   "cell_type": "code",
   "execution_count": 144,
   "id": "9cf87649-f675-44fa-b936-f74ae0513fb5",
   "metadata": {},
   "outputs": [
    {
     "data": {
      "text/html": [
       "<div>\n",
       "<style scoped>\n",
       "    .dataframe tbody tr th:only-of-type {\n",
       "        vertical-align: middle;\n",
       "    }\n",
       "\n",
       "    .dataframe tbody tr th {\n",
       "        vertical-align: top;\n",
       "    }\n",
       "\n",
       "    .dataframe thead th {\n",
       "        text-align: right;\n",
       "    }\n",
       "</style>\n",
       "<table border=\"1\" class=\"dataframe\">\n",
       "  <thead>\n",
       "    <tr style=\"text-align: right;\">\n",
       "      <th></th>\n",
       "      <th>날짜</th>\n",
       "      <th>홈</th>\n",
       "      <th>방문</th>\n",
       "      <th>구장</th>\n",
       "      <th>관중수</th>\n",
       "    </tr>\n",
       "  </thead>\n",
       "  <tbody>\n",
       "    <tr>\n",
       "      <th>0</th>\n",
       "      <td>2022-04-02</td>\n",
       "      <td>두산</td>\n",
       "      <td>한화</td>\n",
       "      <td>잠실</td>\n",
       "      <td>16,271</td>\n",
       "    </tr>\n",
       "    <tr>\n",
       "      <th>1</th>\n",
       "      <td>2022-04-02</td>\n",
       "      <td>KIA</td>\n",
       "      <td>LG</td>\n",
       "      <td>광주</td>\n",
       "      <td>16,908</td>\n",
       "    </tr>\n",
       "    <tr>\n",
       "      <th>2</th>\n",
       "      <td>2022-04-02</td>\n",
       "      <td>키움</td>\n",
       "      <td>롯데</td>\n",
       "      <td>고척</td>\n",
       "      <td>8,257</td>\n",
       "    </tr>\n",
       "    <tr>\n",
       "      <th>3</th>\n",
       "      <td>2022-04-02</td>\n",
       "      <td>NC</td>\n",
       "      <td>SSG</td>\n",
       "      <td>창원</td>\n",
       "      <td>7,814</td>\n",
       "    </tr>\n",
       "    <tr>\n",
       "      <th>4</th>\n",
       "      <td>2022-04-02</td>\n",
       "      <td>KT</td>\n",
       "      <td>삼성</td>\n",
       "      <td>수원</td>\n",
       "      <td>17,057</td>\n",
       "    </tr>\n",
       "    <tr>\n",
       "      <th>...</th>\n",
       "      <td>...</td>\n",
       "      <td>...</td>\n",
       "      <td>...</td>\n",
       "      <td>...</td>\n",
       "      <td>...</td>\n",
       "    </tr>\n",
       "    <tr>\n",
       "      <th>715</th>\n",
       "      <td>2022-10-08</td>\n",
       "      <td>롯데</td>\n",
       "      <td>LG</td>\n",
       "      <td>사직</td>\n",
       "      <td>22,990</td>\n",
       "    </tr>\n",
       "    <tr>\n",
       "      <th>716</th>\n",
       "      <td>2022-10-08</td>\n",
       "      <td>삼성</td>\n",
       "      <td>SSG</td>\n",
       "      <td>대구</td>\n",
       "      <td>24,000</td>\n",
       "    </tr>\n",
       "    <tr>\n",
       "      <th>717</th>\n",
       "      <td>2022-10-08</td>\n",
       "      <td>두산</td>\n",
       "      <td>키움</td>\n",
       "      <td>잠실</td>\n",
       "      <td>23,511</td>\n",
       "    </tr>\n",
       "    <tr>\n",
       "      <th>718</th>\n",
       "      <td>2022-10-10</td>\n",
       "      <td>KT</td>\n",
       "      <td>NC</td>\n",
       "      <td>수원</td>\n",
       "      <td>10,535</td>\n",
       "    </tr>\n",
       "    <tr>\n",
       "      <th>719</th>\n",
       "      <td>2022-10-11</td>\n",
       "      <td>LG</td>\n",
       "      <td>KT</td>\n",
       "      <td>잠실</td>\n",
       "      <td>10,092</td>\n",
       "    </tr>\n",
       "  </tbody>\n",
       "</table>\n",
       "<p>720 rows × 5 columns</p>\n",
       "</div>"
      ],
      "text/plain": [
       "             날짜    홈   방문  구장     관중수\n",
       "0    2022-04-02   두산   한화  잠실  16,271\n",
       "1    2022-04-02  KIA   LG  광주  16,908\n",
       "2    2022-04-02   키움   롯데  고척   8,257\n",
       "3    2022-04-02   NC  SSG  창원   7,814\n",
       "4    2022-04-02   KT   삼성  수원  17,057\n",
       "..          ...  ...  ...  ..     ...\n",
       "715  2022-10-08   롯데   LG  사직  22,990\n",
       "716  2022-10-08   삼성  SSG  대구  24,000\n",
       "717  2022-10-08   두산   키움  잠실  23,511\n",
       "718  2022-10-10   KT   NC  수원  10,535\n",
       "719  2022-10-11   LG   KT  잠실  10,092\n",
       "\n",
       "[720 rows x 5 columns]"
      ]
     },
     "execution_count": 144,
     "metadata": {},
     "output_type": "execute_result"
    }
   ],
   "source": [
    "df_2022"
   ]
  },
  {
   "cell_type": "code",
   "execution_count": 145,
   "id": "5f47a530-ffc5-4378-af0b-ab1d06465e9f",
   "metadata": {},
   "outputs": [],
   "source": [
    "# 형변환\n",
    "df_2021['관중수'] = str_to_int(df_2021, '관중수')\n",
    "df_2022['관중수'] = str_to_int(df_2022, '관중수')\n",
    "df_2023['관중수'] = str_to_int(df_2023, '관중수')"
   ]
  },
  {
   "cell_type": "code",
   "execution_count": 146,
   "id": "7cf431f6-9fd9-4999-9c43-ff167e8c2788",
   "metadata": {},
   "outputs": [],
   "source": [
    "# df_2021 = sort_data(df_2021, '홈')\n",
    "# df_2022 = sort_data(df_2022, '홈')\n",
    "# df_2023 = sort_data(df_2023, '홈')\n",
    "# df_2021['홈'].value_counts()"
   ]
  },
  {
   "cell_type": "code",
   "execution_count": 147,
   "id": "06ebaaf2-2d80-4396-9999-abc87dfacdae",
   "metadata": {},
   "outputs": [
    {
     "data": {
      "text/plain": [
       "홈\n",
       "SSG    73\n",
       "KT     73\n",
       "두산     73\n",
       "롯데     73\n",
       "한화     73\n",
       "키움     71\n",
       "삼성     71\n",
       "KIA    71\n",
       "LG     71\n",
       "NC     71\n",
       "Name: count, dtype: int64"
      ]
     },
     "execution_count": 147,
     "metadata": {},
     "output_type": "execute_result"
    }
   ],
   "source": [
    "#데이터프레임에서 값이 0이 아닌 것를 따로 저장.\n",
    "\n",
    "df_2021_2 = df_2021[df_2021['관중수']!=0]\n",
    "df_2022_2 = df_2022[df_2022['관중수']!=0]\n",
    "df_2023_2 = df_2023[df_2023['관중수']!=0]\n",
    "df_2023_2['홈'].value_counts()"
   ]
  },
  {
   "cell_type": "code",
   "execution_count": 148,
   "id": "92052010-b2ba-4110-94e3-6a0e8b5e5517",
   "metadata": {},
   "outputs": [
    {
     "name": "stdout",
     "output_type": "stream",
     "text": [
      "2021년 : {'KIA': 1458, 'KT': 1725, 'LG': 2652, 'NC': 2005, 'SSG': 2519, '두산': 2391, '롯데': 2231, '삼성': 3864, '키움': 1605, '한화': 1650}\n",
      "2022년 : {'KIA': 8394, 'KT': 7393, 'LG': 12919, 'NC': 5125, 'SSG': 13633, '두산': 8953, '롯데': 8773, '삼성': 9367, '키움': 4858, '한화': 4975}\n",
      "2023년 {'KIA': 10099, 'KT': 9553, 'LG': 16939, 'NC': 7854, 'SSG': 14633, '두산': 13282, '롯데': 12216, '삼성': 11912, '키움': 8220, '한화': 7764}\n"
     ]
    },
    {
     "data": {
      "text/html": [
       "<div>\n",
       "<style scoped>\n",
       "    .dataframe tbody tr th:only-of-type {\n",
       "        vertical-align: middle;\n",
       "    }\n",
       "\n",
       "    .dataframe tbody tr th {\n",
       "        vertical-align: top;\n",
       "    }\n",
       "\n",
       "    .dataframe thead th {\n",
       "        text-align: right;\n",
       "    }\n",
       "</style>\n",
       "<table border=\"1\" class=\"dataframe\">\n",
       "  <thead>\n",
       "    <tr style=\"text-align: right;\">\n",
       "      <th></th>\n",
       "      <th>2021</th>\n",
       "      <th>2022</th>\n",
       "      <th>2023</th>\n",
       "    </tr>\n",
       "  </thead>\n",
       "  <tbody>\n",
       "    <tr>\n",
       "      <th>KIA</th>\n",
       "      <td>1458</td>\n",
       "      <td>8394</td>\n",
       "      <td>10099</td>\n",
       "    </tr>\n",
       "    <tr>\n",
       "      <th>KT</th>\n",
       "      <td>1725</td>\n",
       "      <td>7393</td>\n",
       "      <td>9553</td>\n",
       "    </tr>\n",
       "    <tr>\n",
       "      <th>LG</th>\n",
       "      <td>2652</td>\n",
       "      <td>12919</td>\n",
       "      <td>16939</td>\n",
       "    </tr>\n",
       "    <tr>\n",
       "      <th>NC</th>\n",
       "      <td>2005</td>\n",
       "      <td>5125</td>\n",
       "      <td>7854</td>\n",
       "    </tr>\n",
       "    <tr>\n",
       "      <th>SSG</th>\n",
       "      <td>2519</td>\n",
       "      <td>13633</td>\n",
       "      <td>14633</td>\n",
       "    </tr>\n",
       "    <tr>\n",
       "      <th>두산</th>\n",
       "      <td>2391</td>\n",
       "      <td>8953</td>\n",
       "      <td>13282</td>\n",
       "    </tr>\n",
       "    <tr>\n",
       "      <th>롯데</th>\n",
       "      <td>2231</td>\n",
       "      <td>8773</td>\n",
       "      <td>12216</td>\n",
       "    </tr>\n",
       "    <tr>\n",
       "      <th>삼성</th>\n",
       "      <td>3864</td>\n",
       "      <td>9367</td>\n",
       "      <td>11912</td>\n",
       "    </tr>\n",
       "    <tr>\n",
       "      <th>키움</th>\n",
       "      <td>1605</td>\n",
       "      <td>4858</td>\n",
       "      <td>8220</td>\n",
       "    </tr>\n",
       "    <tr>\n",
       "      <th>한화</th>\n",
       "      <td>1650</td>\n",
       "      <td>4975</td>\n",
       "      <td>7764</td>\n",
       "    </tr>\n",
       "  </tbody>\n",
       "</table>\n",
       "</div>"
      ],
      "text/plain": [
       "     2021   2022   2023\n",
       "KIA  1458   8394  10099\n",
       "KT   1725   7393   9553\n",
       "LG   2652  12919  16939\n",
       "NC   2005   5125   7854\n",
       "SSG  2519  13633  14633\n",
       "두산   2391   8953  13282\n",
       "롯데   2231   8773  12216\n",
       "삼성   3864   9367  11912\n",
       "키움   1605   4858   8220\n",
       "한화   1650   4975   7764"
      ]
     },
     "execution_count": 148,
     "metadata": {},
     "output_type": "execute_result"
    }
   ],
   "source": [
    "teams = ['KIA', 'KT', 'LG', 'NC', 'SSG', '두산', '롯데', '삼성', '키움', '한화']\n",
    "dict_2021 = {}\n",
    "dict_2022 = {}\n",
    "dict_2023 = {}\n",
    "\n",
    "for team in teams:\n",
    "    dict_2021[team] = round(df_2021_2[df_2021_2['홈'] == team]['관중수'].mean())\n",
    "    dict_2022[team] = round(df_2022_2[df_2022_2['홈'] == team]['관중수'].mean())\n",
    "    dict_2023[team] = round(df_2023_2[df_2023_2['홈'] == team]['관중수'].mean())\n",
    "\n",
    "print('2021년 :', dict_2021)\n",
    "print('2022년 :', dict_2022)\n",
    "print('2023년', dict_2023)\n",
    "\n",
    "dict_2021_values_t = list(dict_2021.values())\n",
    "dict_2022_values_t = list(dict_2022.values())\n",
    "dict_2023_values_t = list(dict_2023.values())\n",
    "\n",
    "dict_keys_t = list(dict_2021.keys())\n",
    "\n",
    "df_teams = pd.DataFrame({2021 : dict_2021_values_t,\n",
    "                        2022 : dict_2022_values_t,\n",
    "                        2023 : dict_2023_values_t}, index = dict_keys_t)\n",
    "df_teams"
   ]
  },
  {
   "cell_type": "code",
   "execution_count": 149,
   "id": "3371e6af-70d2-45e6-b5c2-30d2dde61c06",
   "metadata": {},
   "outputs": [
    {
     "data": {
      "image/png": "[encoded data removed]",
      "text/plain": [
       "<Figure size 600x600 with 1 Axes>"
      ]
     },
     "metadata": {},
     "output_type": "display_data"
    },
    {
     "data": {
      "image/png": "[encoded data removed]",
      "text/plain": [
       "<Figure size 600x600 with 1 Axes>"
      ]
     },
     "metadata": {},
     "output_type": "display_data"
    },
    {
     "data": {
      "image/png": "[encoded data removed]",
      "text/plain": [
       "<Figure size 600x600 with 1 Axes>"
      ]
     },
     "metadata": {},
     "output_type": "display_data"
    }
   ],
   "source": [
    "draw_bar(dict_2021, '[2021년 구단별 일평균 관중 수]')\n",
    "draw_bar(dict_2022, '[2022년 구단별 일평균 관중 수]')\n",
    "draw_bar(dict_2023, '[2023년 구단별 일평균 관중 수]')"
   ]
  },
  {
   "cell_type": "code",
   "execution_count": 10,
   "id": "d51068f6-a538-420f-8e9b-768749eb4a3f",
   "metadata": {},
   "outputs": [],
   "source": [
    "#df_2023_2['구장'].value_counts()"
   ]
  },
  {
   "cell_type": "code",
   "execution_count": 11,
   "id": "fb7e56e4-6463-43a8-a719-22e2d00ba484",
   "metadata": {},
   "outputs": [],
   "source": [
    "#df_2023_2[df_2023_2['구장'] == '문학']"
   ]
  },
  {
   "cell_type": "code",
   "execution_count": 12,
   "id": "68082cbf-c2f2-4e89-9ee0-ef2a2ed34ba8",
   "metadata": {},
   "outputs": [],
   "source": [
    "# stads = ['잠실', '문학', '수원', '대전', '고척', '광주', '창원', '사직', '대구', '울산', '포항']\n",
    "#round(df_2021_2[df_2021_2['구장'] == '고척']['관중수'].mean())"
   ]
  },
  {
   "cell_type": "code",
   "execution_count": 34,
   "id": "a5257137-7187-4db4-a8cb-55758a98e803",
   "metadata": {},
   "outputs": [
    {
     "name": "stdout",
     "output_type": "stream",
     "text": [
      "2021년 : {'잠실/고척': 2222, '문학': 2519, '수원': 1725, '대전': 1650, '광주': 1458, '창원': 2005, '사직': 2231, '대구': 3864}\n",
      "2022년 : {'잠실/고척': 8910, '문학': 13633, '수원': 7393, '대전': 4975, '광주': 8394, '창원': 5125, '사직': 8846, '대구': 9501}\n",
      "2023년 : {'잠실/고척': 12818, '문학': 14633, '수원': 9553, '대전': 7764, '광주': 10099, '창원': 7854, '사직': 12652, '대구': 12446}\n"
     ]
    },
    {
     "data": {
      "text/html": [
       "<div>\n",
       "<style scoped>\n",
       "    .dataframe tbody tr th:only-of-type {\n",
       "        vertical-align: middle;\n",
       "    }\n",
       "\n",
       "    .dataframe tbody tr th {\n",
       "        vertical-align: top;\n",
       "    }\n",
       "\n",
       "    .dataframe thead th {\n",
       "        text-align: right;\n",
       "    }\n",
       "</style>\n",
       "<table border=\"1\" class=\"dataframe\">\n",
       "  <thead>\n",
       "    <tr style=\"text-align: right;\">\n",
       "      <th></th>\n",
       "      <th>2021</th>\n",
       "      <th>2022</th>\n",
       "      <th>2023</th>\n",
       "    </tr>\n",
       "  </thead>\n",
       "  <tbody>\n",
       "    <tr>\n",
       "      <th>잠실/고척</th>\n",
       "      <td>2222</td>\n",
       "      <td>8910</td>\n",
       "      <td>12818</td>\n",
       "    </tr>\n",
       "    <tr>\n",
       "      <th>문학</th>\n",
       "      <td>2519</td>\n",
       "      <td>13633</td>\n",
       "      <td>14633</td>\n",
       "    </tr>\n",
       "    <tr>\n",
       "      <th>수원</th>\n",
       "      <td>1725</td>\n",
       "      <td>7393</td>\n",
       "      <td>9553</td>\n",
       "    </tr>\n",
       "    <tr>\n",
       "      <th>대전</th>\n",
       "      <td>1650</td>\n",
       "      <td>4975</td>\n",
       "      <td>7764</td>\n",
       "    </tr>\n",
       "    <tr>\n",
       "      <th>광주</th>\n",
       "      <td>1458</td>\n",
       "      <td>8394</td>\n",
       "      <td>10099</td>\n",
       "    </tr>\n",
       "    <tr>\n",
       "      <th>창원</th>\n",
       "      <td>2005</td>\n",
       "      <td>5125</td>\n",
       "      <td>7854</td>\n",
       "    </tr>\n",
       "    <tr>\n",
       "      <th>사직</th>\n",
       "      <td>2231</td>\n",
       "      <td>8846</td>\n",
       "      <td>12652</td>\n",
       "    </tr>\n",
       "    <tr>\n",
       "      <th>대구</th>\n",
       "      <td>3864</td>\n",
       "      <td>9501</td>\n",
       "      <td>12446</td>\n",
       "    </tr>\n",
       "  </tbody>\n",
       "</table>\n",
       "</div>"
      ],
      "text/plain": [
       "       2021   2022   2023\n",
       "잠실/고척  2222   8910  12818\n",
       "문학     2519  13633  14633\n",
       "수원     1725   7393   9553\n",
       "대전     1650   4975   7764\n",
       "광주     1458   8394  10099\n",
       "창원     2005   5125   7854\n",
       "사직     2231   8846  12652\n",
       "대구     3864   9501  12446"
      ]
     },
     "execution_count": 34,
     "metadata": {},
     "output_type": "execute_result"
    }
   ],
   "source": [
    "dict_2021_st = {}\n",
    "dict_2022_st = {}\n",
    "dict_2023_st = {}\n",
    "\n",
    "# '잠실'과 '고척'을 합쳐서 새로운 구장으로 간주하여 관중수의 합 계산(서울에 야구장이 두 개 있어서.)\n",
    "stads = ['잠실/고척', '문학', '수원', '대전', '광주', '창원', '사직', '대구']\n",
    "dict_2021_st['잠실/고척'] = round(df_2021_2[df_2021_2['구장'].isin(['잠실', '고척'])]['관중수'].mean())\n",
    "dict_2022_st['잠실/고척'] = round(df_2022_2[df_2022_2['구장'].isin(['잠실', '고척'])]['관중수'].mean())\n",
    "dict_2023_st['잠실/고척'] = round(df_2023_2[df_2023_2['구장'].isin(['잠실', '고척'])]['관중수'].mean())\n",
    "\n",
    "for st in stads[1:] :\n",
    "    dict_2021_st[st] = round(df_2021_2[df_2021_2['구장']==st]['관중수'].mean())\n",
    "    dict_2022_st[st] = round(df_2022_2[df_2022_2['구장']==st]['관중수'].mean())\n",
    "    dict_2023_st[st] = round(df_2023_2[df_2023_2['구장']==st]['관중수'].mean())\n",
    "\n",
    "print('2021년 :', dict_2021_st)\n",
    "print('2022년 :', dict_2022_st)\n",
    "print('2023년 :', dict_2023_st)\n",
    "dict_2021_values = list(dict_2021_st.values())\n",
    "dict_2022_values = list(dict_2022_st.values())\n",
    "dict_2023_values = list(dict_2023_st.values())\n",
    "\n",
    "dict_keys = list(dict_2021_st.keys())\n",
    "\n",
    "df_stads = pd.DataFrame({2021 : dict_2021_values,\n",
    "                        2022 : dict_2022_values,\n",
    "                        2023 : dict_2023_values}, index = dict_keys)\n",
    "df_stads.to_csv('stadium.csv')\n",
    "df_stads"
   ]
  },
  {
   "cell_type": "code",
   "execution_count": 42,
   "id": "0d3fd9ec-7f62-4c68-9c07-dc76eaf3f857",
   "metadata": {},
   "outputs": [
    {
     "data": {
      "text/plain": [
       "Index([2021, 2022, 2023], dtype='int64')"
      ]
     },
     "execution_count": 42,
     "metadata": {},
     "output_type": "execute_result"
    }
   ],
   "source": [
    "ppdf = pd.read_csv('행정구역_시군구_별_주민등록세대수.csv', index_col='행정구역(시군구)별')\n",
    "ppdf.columns=[2021, 2022, 2023]\n",
    "ppdf.columns"
   ]
  },
  {
   "cell_type": "code",
   "execution_count": 124,
   "id": "67e35147-9a69-4b92-8a33-4151d1625293",
   "metadata": {},
   "outputs": [
    {
     "data": {
      "text/html": [
       "<div>\n",
       "<style scoped>\n",
       "    .dataframe tbody tr th:only-of-type {\n",
       "        vertical-align: middle;\n",
       "    }\n",
       "\n",
       "    .dataframe tbody tr th {\n",
       "        vertical-align: top;\n",
       "    }\n",
       "\n",
       "    .dataframe thead th {\n",
       "        text-align: right;\n",
       "    }\n",
       "</style>\n",
       "<table border=\"1\" class=\"dataframe\">\n",
       "  <thead>\n",
       "    <tr style=\"text-align: right;\">\n",
       "      <th></th>\n",
       "      <th>2021</th>\n",
       "      <th>2022</th>\n",
       "      <th>2023</th>\n",
       "    </tr>\n",
       "    <tr>\n",
       "      <th>행정구역(시군구)별</th>\n",
       "      <th></th>\n",
       "      <th></th>\n",
       "      <th></th>\n",
       "    </tr>\n",
       "  </thead>\n",
       "  <tbody>\n",
       "    <tr>\n",
       "      <th>서울특별시</th>\n",
       "      <td>4426007</td>\n",
       "      <td>4446296</td>\n",
       "      <td>4469417</td>\n",
       "    </tr>\n",
       "    <tr>\n",
       "      <th>인천광역시</th>\n",
       "      <td>1298647</td>\n",
       "      <td>1322632</td>\n",
       "      <td>1350912</td>\n",
       "    </tr>\n",
       "    <tr>\n",
       "      <th>수원시</th>\n",
       "      <td>517822</td>\n",
       "      <td>528482</td>\n",
       "      <td>537078</td>\n",
       "    </tr>\n",
       "    <tr>\n",
       "      <th>대전광역시</th>\n",
       "      <td>664417</td>\n",
       "      <td>673429</td>\n",
       "      <td>680261</td>\n",
       "    </tr>\n",
       "    <tr>\n",
       "      <th>광주광역시</th>\n",
       "      <td>645712</td>\n",
       "      <td>652355</td>\n",
       "      <td>655433</td>\n",
       "    </tr>\n",
       "    <tr>\n",
       "      <th>창원시</th>\n",
       "      <td>451940</td>\n",
       "      <td>456191</td>\n",
       "      <td>456830</td>\n",
       "    </tr>\n",
       "    <tr>\n",
       "      <th>부산광역시</th>\n",
       "      <td>1544663</td>\n",
       "      <td>1555867</td>\n",
       "      <td>1564588</td>\n",
       "    </tr>\n",
       "    <tr>\n",
       "      <th>대구광역시</th>\n",
       "      <td>1063893</td>\n",
       "      <td>1070873</td>\n",
       "      <td>1094148</td>\n",
       "    </tr>\n",
       "  </tbody>\n",
       "</table>\n",
       "</div>"
      ],
      "text/plain": [
       "               2021     2022     2023\n",
       "행정구역(시군구)별                           \n",
       "서울특별시       4426007  4446296  4469417\n",
       "인천광역시       1298647  1322632  1350912\n",
       "수원시          517822   528482   537078\n",
       "대전광역시        664417   673429   680261\n",
       "광주광역시        645712   652355   655433\n",
       "창원시          451940   456191   456830\n",
       "부산광역시       1544663  1555867  1564588\n",
       "대구광역시       1063893  1070873  1094148"
      ]
     },
     "execution_count": 124,
     "metadata": {},
     "output_type": "execute_result"
    }
   ],
   "source": [
    "ppdf_selected = ppdf.loc[['서울특별시', '인천광역시', '수원시', '대전광역시', '광주광역시', '창원시', '부산광역시', '대구광역시']]\n",
    "ppdf_selected.to_csv(\"test.csv\")\n",
    "ppdf_selected=ppdf_selected.astype(int)\n",
    "ppdf_selected"
   ]
  },
  {
   "cell_type": "code",
   "execution_count": 92,
   "id": "66d34455-283e-4c1b-958f-7b2951577836",
   "metadata": {},
   "outputs": [],
   "source": [
    "X1 = ppdf_selected[2021]\n",
    "Y1 = df_stads[2021]\n",
    "\n",
    "X2 = ppdf_selected[2022]\n",
    "Y2 = df_stads[2022]\n",
    "\n",
    "X3 = ppdf_selected[2023]\n",
    "Y3 = df_stads[2023]"
   ]
  },
  {
   "cell_type": "code",
   "execution_count": 151,
   "id": "7b2cec5b-5a48-403d-9769-faff2cb03804",
   "metadata": {},
   "outputs": [
    {
     "data": {
      "image/png": "[encoded data removed]",
      "text/plain": [
       "<Figure size 800x800 with 1 Axes>"
      ]
     },
     "metadata": {},
     "output_type": "display_data"
    }
   ],
   "source": [
    "# 그래프\n",
    "fig = plt.figure(figsize=(8, 8))\n",
    "ax = fig.add_subplot(111)\n",
    "ax.set_xlabel('인구수')\n",
    "ax.set_ylabel('관중수')\n",
    "ax.set_title('[지역 인구 수와 관중 수 관계]')\n",
    "ax.scatter(X1, Y1, color = 'skyblue', label = '2021')\n",
    "ax.scatter(X2, Y2, color = 'tomato', label = '2022')\n",
    "ax.scatter(X3, Y3, color = '#acbb84', label = '2023')\n",
    "ax.legend(loc = 'upper right')\n",
    "plt.show()"
   ]
  },
  {
   "cell_type": "code",
   "execution_count": 102,
   "id": "e5caf554-fe19-445b-8aaa-fcc1f38bd2ba",
   "metadata": {},
   "outputs": [],
   "source": [
    "winning_2021 = pd.read_csv('2021_팀별_순위.csv', index_col=['순위'], usecols=['순위', '팀명', '경기', '승', '패', '무', '승률'])"
   ]
  },
  {
   "cell_type": "code",
   "execution_count": 103,
   "id": "aff80b87-f7be-47b6-a5d3-1a046fceb80c",
   "metadata": {},
   "outputs": [],
   "source": [
    "winning_2022 = pd.read_csv('2022_팀별_순위.csv', index_col=['순위'], usecols=['순위', '팀명', '경기', '승', '패', '무', '승률'])"
   ]
  },
  {
   "cell_type": "code",
   "execution_count": 104,
   "id": "493e22c7-2d30-4e6e-8572-ec141a7ff186",
   "metadata": {},
   "outputs": [],
   "source": [
    "winning_2023 = pd.read_csv('2023_팀별_순위.csv', index_col=['순위'], usecols=['순위', '팀명', '경기', '승', '패', '무', '승률'])"
   ]
  },
  {
   "cell_type": "code",
   "execution_count": 111,
   "id": "da5e7f65-393f-424e-bea5-5f30e06c6996",
   "metadata": {},
   "outputs": [
    {
     "data": {
      "text/plain": [
       "(순위\n",
       " 1     56.3\n",
       " 2     52.2\n",
       " 3     56.3\n",
       " 4     55.4\n",
       " 5     51.1\n",
       " 6     50.8\n",
       " 7     49.6\n",
       " 8     47.8\n",
       " 9     43.3\n",
       " 10    37.1\n",
       " Name: 승률, dtype: float64,\n",
       " 순위\n",
       " 1     62.9\n",
       " 2     56.3\n",
       " 3     61.3\n",
       " 4     56.3\n",
       " 5     49.0\n",
       " 6     47.5\n",
       " 7     46.5\n",
       " 8     45.7\n",
       " 9     42.3\n",
       " 10    32.4\n",
       " Name: 승률, dtype: float64,\n",
       " 순위\n",
       " 1     60.6\n",
       " 2     56.0\n",
       " 3     53.9\n",
       " 4     52.8\n",
       " 5     52.1\n",
       " 6     51.4\n",
       " 7     47.2\n",
       " 8     42.7\n",
       " 9     42.0\n",
       " 10    41.1\n",
       " Name: 승률, dtype: float64)"
      ]
     },
     "execution_count": 111,
     "metadata": {},
     "output_type": "execute_result"
    }
   ],
   "source": [
    "winning_2021_rate = winning_2021['승률']*100\n",
    "winning_2022_rate = winning_2022['승률']*100\n",
    "winning_2023_rate = winning_2023['승률']*100\n",
    "\n",
    "winning_2021_rate, winning_2022_rate, winning_2023_rate"
   ]
  },
  {
   "cell_type": "code",
   "execution_count": 121,
   "id": "c594a989-7f67-4031-a05a-174d8ce3cf62",
   "metadata": {},
   "outputs": [],
   "source": [
    "x1 = df_teams[2021]\n",
    "x2 = df_teams[2022]\n",
    "x3 = df_teams[2023]"
   ]
  },
  {
   "cell_type": "code",
   "execution_count": 154,
   "id": "02bf9176-a04c-4488-92b1-38888d50519c",
   "metadata": {},
   "outputs": [
    {
     "data": {
      "image/png": "[encoded data removed]",
      "text/plain": [
       "<Figure size 800x800 with 1 Axes>"
      ]
     },
     "metadata": {},
     "output_type": "display_data"
    }
   ],
   "source": [
    "fig = plt.figure(figsize=(8, 8))\n",
    "\n",
    "ax = fig.add_subplot(111)\n",
    "ax.set_xlabel('팀별 관중수')\n",
    "ax.set_ylabel('승률(%)')\n",
    "ax.set_title('[팀별 관중 수와 승률 간 관계]')\n",
    "ax.scatter(x1, winning_2021_rate, color = 'skyblue', label = '2021')\n",
    "ax.scatter(x2, winning_2022_rate, color = 'tomato', label = '2022')\n",
    "ax.scatter(x3, winning_2023_rate, color = '#acbb84', label = '2023')\n",
    "ax.legend(loc = 'upper right')\n",
    "plt.show()"
   ]
  },
  {
   "cell_type": "code",
   "execution_count": null,
   "id": "20637c64-8ade-4d0d-8ab3-e28d06ae6dc9",
   "metadata": {},
   "outputs": [],
   "source": []
  }
 ],
 "metadata": {
  "kernelspec": {
   "display_name": "Python 3 (ipykernel)",
   "language": "python",
   "name": "python3"
  },
  "language_info": {
   "codemirror_mode": {
    "name": "ipython",
    "version": 3
   },
   "file_extension": ".py",
   "mimetype": "text/x-python",
   "name": "python",
   "nbconvert_exporter": "python",
   "pygments_lexer": "ipython3",
   "version": "3.11.5"
  }
 },
 "nbformat": 4,
 "nbformat_minor": 5
}
